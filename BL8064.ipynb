{
  "nbformat": 4,
  "nbformat_minor": 0,
  "metadata": {
    "colab": {
      "provenance": [],
      "authorship_tag": "ABX9TyPcx/T2VlCoBeTZKua2HuES",
      "include_colab_link": true
    },
    "kernelspec": {
      "name": "python3",
      "display_name": "Python 3"
    },
    "language_info": {
      "name": "python"
    }
  },
  "cells": [
    {
      "cell_type": "markdown",
      "metadata": {
        "id": "view-in-github",
        "colab_type": "text"
      },
      "source": [
        "<a href=\"https://colab.research.google.com/github/patrickbryant1/BL8064/blob/main/BL8064.ipynb\" target=\"_parent\"><img src=\"https://colab.research.google.com/assets/colab-badge.svg\" alt=\"Open In Colab\"/></a>"
      ]
    },
    {
      "cell_type": "markdown",
      "source": [
        "# BL8064\n",
        "\n",
        "Hi and welcome to the protein structure prediction exercise for the course [Methods in Molecular Life Science](https://www.su.se/english/search-courses-and-programmes/bl8064-1.684212).\n",
        "This exercise is about assessing the impact of mutations using protein structure prediction.\n",
        "\\\n",
        "Did you know that proteins interact to form intricate signaling networks?\n",
        "If mutations occur in the interaction interfaces - these networks can be perturbed resulting in functional changes!\n",
        "\\\n",
        "Here we will assess the impact of mutations of **your choice** on proteins of **your choice** using protein structure prediction of interaction networks.\n",
        "\\\n",
        "\\\n",
        "Please follow the instructions below."
      ],
      "metadata": {
        "id": "CVUQ5UNBkrEF"
      }
    },
    {
      "cell_type": "code",
      "source": [
        "#@title Install dependencies\n",
        "#@markdown Make sure your runtime is GPU.\n",
        "#@markdown In the menu above do: Runtime --> Change runtime type --> Hardware accelerator (set to GPU)\n",
        "\n",
        "#@markdown **Press play.**\n",
        "\n",
        "#@markdown Simply press play on each cell below and follow the instructions.\n",
        "\n",
        "#@markdown You will have to restart the runtime after this finishes to include the new packages.\n",
        "#@markdown In the menu above do: Runtime --> Restart runtime \\\n",
        "#@markdown ***Do not restart before all packages are installed.***\n",
        "\n",
        "#@markdown Don't worry about all the errors that pip give below, these are resolved in the end.\n",
        "!pip install --upgrade \"jax[cuda12_local]\" -f https://storage.googleapis.com/jax-releases/jax_cuda_releases.html\n",
        "!pip install ml-collections==0.1.1\n",
        "!pip install dm-haiku==0.0.11\n",
        "!pip install pandas==1.3.5\n",
        "!pip install biopython==1.81\n",
        "!pip install chex==0.1.5\n",
        "!pip install dm-tree==0.1.8\n",
        "!pip install immutabledict==2.0.0\n",
        "!pip install scipy==1.7.3\n",
        "!pip install tensorflow==2.11.0\n",
        "!pip install rdkit-pypi\n",
        "!pip install py3Dmol\n",
        "!pip install numpy --upgrade"
      ],
      "metadata": {
        "cellView": "form",
        "id": "EXtIfy5VlHL-"
      },
      "execution_count": null,
      "outputs": []
    },
    {
      "cell_type": "code",
      "source": [
        "#@title #Map your mutations to known protein interactions and assess if they are part of important interfaces\n",
        "\n",
        "#@markdown The target positions are visualised on a structure generated from [ESMFold](https://www.science.org/doi/10.1126/science.ade2574).\n",
        "#@markdown You can opt out of adding target positions, but the accuracy is increased if you do.\n",
        "\n",
        "#@markdown #Settings\n",
        "#@markdown - *ID* - for your protein of interest (POI). This has to be the ID from the [AlphaFoldDB](https://alphafold.ebi.ac.uk/entry/Q6FXU7) (which should be the same as the Uniprot ID). For PDR1 this is Q6FXU7 (you can search the AlphaFoldDB to find this information).\n",
        "#@markdown - *Mutations* - Provide a list of mutations separated by comma in the form Y270D (amino acid Y at pos 270 is mutated to D)\n",
        "\n",
        "import sys, os\n",
        "from google.colab import files\n",
        "import pandas as pd\n",
        "import numpy as np\n",
        "import py3Dmol\n",
        "\n",
        "\n",
        "ID = \"Q6FXU7\" #@param {type:\"string\"}\n",
        "Mutations = \"F669L,V1048F,Y270D\" #@param {type:\"string\"}\n",
        "\n",
        "#Make a result directory\n",
        "OUTDIR=\"/content/\"+ID+'/'\n",
        "if not os.path.exists(OUTDIR):\n",
        "  os.mkdir(OUTDIR)\n",
        "print('All results will be saved to', OUTDIR)\n",
        "#Get the structure from the AFDB\n",
        "\n",
        "if not os.path.exists(OUTDIR+'/AF-'+ID+'-F1-model_v4.pdb'):\n",
        "  print('Downloading protein of interest')\n",
        "  !wget https://alphafold.ebi.ac.uk/files/AF-$ID-F1-model_v4.pdb\n",
        "  !mv /content/AF-$ID-F1-model_v4.pdb $OUTDIR\n",
        "else:\n",
        "  print('Protein of interest downloaded')\n"
      ],
      "metadata": {
        "colab": {
          "base_uri": "https://localhost:8080/"
        },
        "id": "v68cE4xKk7iU",
        "outputId": "ed176dcd-1e71-4a8c-b4a6-73c51dc1307b"
      },
      "execution_count": 6,
      "outputs": [
        {
          "output_type": "stream",
          "name": "stdout",
          "text": [
            "All results will be saved to /content/Q6FXU7/\n",
            "Protein of interest downloaded\n"
          ]
        }
      ]
    }
  ]
}